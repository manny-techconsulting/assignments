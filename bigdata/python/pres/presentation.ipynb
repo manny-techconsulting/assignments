{
 "cells": [
  {
   "cell_type": "markdown",
   "metadata": {},
   "source": [
    "# I/O Handling\n",
    "Reading and writing data from and to files is a fundamental element of data processing.\n",
    "Therefore it is important we understand how python accesses files and formats that data for readability.\n",
    "\n",
    "The main method of accessing a file is by using the `open()` method.\n",
    "\n",
    "The `open()` method returns a file object and accepts two positional arguments--the name of the file and the access mode--and one keyword argument describing the encoding of the file: `open('name of file', 'mode','encoding=')`\n",
    "\n",
    "Best Practice:\n",
    "Always use the keyword `with` when dealing with file objects because even if the object raises an exception, we can properly close the file object. If the `with` keyword is not used, call the `close()` method to free up system resources used by it."
   ]
  },
  {
   "cell_type": "markdown",
   "metadata": {},
   "source": [
    "## File Access Modes\n",
    "------------------\n",
    "1. Read Only (`r`)\n",
    "\n",
    "2. Read and Write (`r+`)\n",
    "\n",
    "3. Write Only (`w`)\n",
    "\n",
    "4. Write and Read (`w+`)\n",
    "\n",
    "5. Append Only (`a`)\n",
    "\n",
    "6. Append and Read (`a+`)"
   ]
  },
  {
   "cell_type": "code",
   "execution_count": 1,
   "metadata": {},
   "outputs": [
    {
     "name": "stdout",
     "output_type": "stream",
     "text": [
      "Hello World\n",
      "I \n",
      "am\n",
      "an\n",
      "example\n",
      "txt\n",
      "file\n",
      "File example_text.txt has been closed!\n"
     ]
    }
   ],
   "source": [
    "with open('example_text.txt','+r',encoding='utf-8') as file:\n",
    "    read_text = file.read()\n",
    "    print(read_text)\n",
    "if file.closed:\n",
    "    print(f'File {file.name} has been closed!')"
   ]
  },
  {
   "cell_type": "markdown",
   "metadata": {},
   "source": [
    "If an encoding is not specified, default encoding is platform dependent called by the `local.encoding()`. "
   ]
  },
  {
   "cell_type": "markdown",
   "metadata": {},
   "source": [
    "## Why is I/O important?"
   ]
  },
  {
   "cell_type": "markdown",
   "metadata": {},
   "source": [
    "Handling input and output is important because in data processing, thousands to millions of files may be accessed and have their data processed and analayzed. \n",
    "\n",
    "Each of these files may not always have clean, accurate data nor may they have the right encoding. \n",
    "\n",
    "Handling the contents of a file is a crucial step in the pre-processing of data."
   ]
  },
  {
   "cell_type": "markdown",
   "metadata": {},
   "source": [
    "### Multiple Ways to read a file\n",
    "The are multiple ways to read the contents of a file.\n",
    "The method `read()` takes in an optional argument of `size`. This size determines the chunck of data that is returned.\n",
    "If no argument is applied, then the entire file is read."
   ]
  },
  {
   "cell_type": "code",
   "execution_count": 10,
   "metadata": {},
   "outputs": [
    {
     "name": "stderr",
     "output_type": "stream",
     "text": [
      "IOPub data rate exceeded.\n",
      "The Jupyter server will temporarily stop sending output\n",
      "to the client in order to avoid crashing it.\n",
      "To change this limit, set the config variable\n",
      "`--ServerApp.iopub_data_rate_limit`.\n",
      "\n",
      "Current values:\n",
      "ServerApp.iopub_data_rate_limit=1000000.0 (bytes/sec)\n",
      "ServerApp.rate_limit_window=3.0 (secs)\n",
      "\n"
     ]
    }
   ],
   "source": [
    "with open('big-file','r', encoding='utf-8') as file:\n",
    "    read_text = file.read()"
   ]
  },
  {
   "cell_type": "code",
   "execution_count": null,
   "metadata": {},
   "outputs": [],
   "source": [
    "It is best to chunk the file content rather than readt the file content's all at once.\n",
    "\n",
    "For smaller files it is fine; however, for larger files, this has the potential of causing a memory error. \n",
    "We can also cause an error by not chunking out data we output.\n",
    "\n",
    "In the case for Jupyter notebook, printing out the following contents of the file (1.27 GB), it will cause an error in the Jupyter server."
   ]
  },
  {
   "cell_type": "code",
   "execution_count": null,
   "metadata": {},
   "outputs": [],
   "source": [
    "with open('big-file','r', encoding='utf-8') as file:\n",
    "    while True:\n",
    "        chunk = file.read()\n",
    "    if not chunk:\n",
    "        break\n",
    "    # chunk data processing"
   ]
  }
 ],
 "metadata": {
  "kernelspec": {
   "display_name": "Python 3 (ipykernel)",
   "language": "python",
   "name": "python3"
  },
  "language_info": {
   "codemirror_mode": {
    "name": "ipython",
    "version": 3
   },
   "file_extension": ".py",
   "mimetype": "text/x-python",
   "name": "python",
   "nbconvert_exporter": "python",
   "pygments_lexer": "ipython3",
   "version": "3.12.3"
  }
 },
 "nbformat": 4,
 "nbformat_minor": 4
}
